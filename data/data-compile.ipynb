{
 "cells": [
  {
   "cell_type": "code",
   "execution_count": 1,
   "metadata": {},
   "outputs": [],
   "source": [
    "import pandas as pd"
   ]
  },
  {
   "cell_type": "code",
   "execution_count": 6,
   "metadata": {},
   "outputs": [],
   "source": [
    "fake_news_df = pd.DataFrame({\n",
    "    'title': [],\n",
    "    'isFakeNews': [],\n",
    "    'src': []\n",
    "})"
   ]
  },
  {
   "cell_type": "code",
   "execution_count": 14,
   "metadata": {},
   "outputs": [],
   "source": [
    "fake_df = pd.read_csv('fake-and-real-news-dataset/Fake.csv')\n",
    "true_df = pd.read_csv('fake-and-real-news-dataset/True.csv')\n",
    "\n",
    "fake_df['isFakeNews'] = True\n",
    "true_df['isFakeNews'] = False\n",
    "fake_df['src'] = 'fake-and-real-news-dataset'\n",
    "true_df['src'] = 'fake-and-real-news-dataset'\n",
    "\n",
    "fake_news_df = pd.concat([fake_news_df, fake_df[['title', 'isFakeNews', 'src']]])\n",
    "fake_news_df = pd.concat([fake_news_df, true_df[['title', 'isFakeNews', 'src']]])\n",
    "fake_news_df['isFakeNews'] = fake_news_df['isFakeNews'].astype(bool)"
   ]
  },
  {
   "cell_type": "code",
   "execution_count": 16,
   "metadata": {},
   "outputs": [],
   "source": [
    "fake_news_df.dropna(inplace=True)\n",
    "fake_news_df.to_csv(\"compiledData.csv\", index=False)"
   ]
  }
 ],
 "metadata": {
  "kernelspec": {
   "display_name": "Python 3",
   "language": "python",
   "name": "python3"
  },
  "language_info": {
   "codemirror_mode": {
    "name": "ipython",
    "version": 3
   },
   "file_extension": ".py",
   "mimetype": "text/x-python",
   "name": "python",
   "nbconvert_exporter": "python",
   "pygments_lexer": "ipython3",
   "version": "3.11.4"
  }
 },
 "nbformat": 4,
 "nbformat_minor": 2
}
